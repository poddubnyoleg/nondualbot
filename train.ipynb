{
  "nbformat": 4,
  "nbformat_minor": 0,
  "metadata": {
    "colab": {
      "name": "train.ipynb",
      "version": "0.3.2",
      "provenance": [],
      "collapsed_sections": [],
      "include_colab_link": true
    },
    "kernelspec": {
      "name": "python3",
      "display_name": "Python 3"
    },
    "accelerator": "GPU"
  },
  "cells": [
    {
      "cell_type": "markdown",
      "metadata": {
        "id": "view-in-github",
        "colab_type": "text"
      },
      "source": [
        "<a href=\"https://colab.research.google.com/github/poddubnyoleg/nondualbot/blob/master/train.ipynb\" target=\"_parent\"><img src=\"https://colab.research.google.com/assets/colab-badge.svg\" alt=\"Open In Colab\"/></a>"
      ]
    },
    {
      "metadata": {
        "id": "bGc0Vcfy2zQJ",
        "colab_type": "code",
        "colab": {}
      },
      "cell_type": "code",
      "source": [
        "\n",
        "import numpy as np\n",
        "from keras.models import Sequential\n",
        "from keras.layers import Dense\n",
        "from keras.layers import Dropout\n",
        "from keras.layers import LSTM\n",
        "from keras.callbacks import ModelCheckpoint\n",
        "from keras.utils import np_utils\n",
        "import keras.backend as K\n",
        "import sys"
      ],
      "execution_count": 0,
      "outputs": []
    },
    {
      "metadata": {
        "id": "zxZbSUTb4lTk",
        "colab_type": "code",
        "outputId": "52b99107-ea0a-473f-f797-3a574f4db94f",
        "colab": {
          "base_uri": "https://localhost:8080/",
          "height": 122
        }
      },
      "cell_type": "code",
      "source": [
        "from google.colab import drive\n",
        "drive.mount('/content/drive')\n"
      ],
      "execution_count": 2,
      "outputs": [
        {
          "output_type": "stream",
          "text": [
            "Go to this URL in a browser: https://accounts.google.com/o/oauth2/auth?client_id=947318989803-6bn6qk8qdgf4n4g3pfee6491hc0brc4i.apps.googleusercontent.com&redirect_uri=urn%3Aietf%3Awg%3Aoauth%3A2.0%3Aoob&scope=email%20https%3A%2F%2Fwww.googleapis.com%2Fauth%2Fdocs.test%20https%3A%2F%2Fwww.googleapis.com%2Fauth%2Fdrive%20https%3A%2F%2Fwww.googleapis.com%2Fauth%2Fdrive.photos.readonly%20https%3A%2F%2Fwww.googleapis.com%2Fauth%2Fpeopleapi.readonly&response_type=code\n",
            "\n",
            "Enter your authorization code:\n",
            "··········\n",
            "Mounted at /content/drive\n"
          ],
          "name": "stdout"
        }
      ]
    },
    {
      "metadata": {
        "id": "8JWl2n_n6LVe",
        "colab_type": "code",
        "colab": {}
      },
      "cell_type": "code",
      "source": [
        "file = open('/content/drive/My Drive/nondualbot/i_am_that.txt', 'r') \n",
        "data = file.read() "
      ],
      "execution_count": 0,
      "outputs": []
    },
    {
      "metadata": {
        "id": "zwJjADvv7vzv",
        "colab_type": "code",
        "colab": {
          "base_uri": "https://localhost:8080/",
          "height": 34
        },
        "outputId": "cc899d60-c6d2-4471-8ad5-6b2ce4363f69"
      },
      "cell_type": "code",
      "source": [
        "data[:100]"
      ],
      "execution_count": 4,
      "outputs": [
        {
          "output_type": "execute_result",
          "data": {
            "text/plain": [
              "'That which permeates all, which nothing transcends and which, like the universal space around us, fi'"
            ]
          },
          "metadata": {
            "tags": []
          },
          "execution_count": 4
        }
      ]
    },
    {
      "metadata": {
        "id": "edNZraxrSXoB",
        "colab_type": "code",
        "colab": {}
      },
      "cell_type": "code",
      "source": [
        "chars = sorted(list(set(data)))\n",
        "char_to_int = dict((c, i) for i, c in enumerate(chars))\n",
        "int_to_char = dict((i, c) for i, c in enumerate(chars))"
      ],
      "execution_count": 0,
      "outputs": []
    },
    {
      "metadata": {
        "id": "pSO_sRT_Sq4o",
        "colab_type": "code",
        "colab": {
          "base_uri": "https://localhost:8080/",
          "height": 51
        },
        "outputId": "5525b5c1-f507-4c76-f9d3-eaafc2c2f2b3"
      },
      "cell_type": "code",
      "source": [
        "\n",
        "n_chars = len(data)\n",
        "n_vocab = len(chars)\n",
        "print(\"Total Characters: \", n_chars)\n",
        "print(\"Total Vocab: \", n_vocab)"
      ],
      "execution_count": 6,
      "outputs": [
        {
          "output_type": "stream",
          "text": [
            "Total Characters:  988168\n",
            "Total Vocab:  55\n"
          ],
          "name": "stdout"
        }
      ]
    },
    {
      "metadata": {
        "id": "G6xQoIj3S2M7",
        "colab_type": "text"
      },
      "cell_type": "markdown",
      "source": [
        "For each chunk of data [seq_length] we take one-hot-encoded dataX array and dataY array (same but shifted +1)"
      ]
    },
    {
      "metadata": {
        "id": "d5ShWWBXSyPh",
        "colab_type": "code",
        "colab": {}
      },
      "cell_type": "code",
      "source": [
        "seq_length = 100\n",
        "overlapping_length = 30\n",
        "dataX = []\n",
        "dataY = []\n",
        "cur_pos = 0\n",
        "while cur_pos<n_chars-seq_length-1:\n",
        "  seq_input = np_utils.to_categorical([char_to_int[char] for char in data[cur_pos:cur_pos + seq_length]], num_classes=n_vocab)\n",
        "  seq_output = np_utils.to_categorical([char_to_int[char] for char in data[cur_pos + 1:cur_pos + seq_length + 1]], num_classes=n_vocab)\n",
        "  dataX.append(seq_input)\n",
        "  dataY.append(seq_output)\n",
        "\n",
        "  cur_pos+=10"
      ],
      "execution_count": 0,
      "outputs": []
    },
    {
      "metadata": {
        "id": "Lb2h7ht9Yz-8",
        "colab_type": "code",
        "colab": {
          "base_uri": "https://localhost:8080/",
          "height": 34
        },
        "outputId": "373be5b8-6e67-4566-c457-507a6d7c4d66"
      },
      "cell_type": "code",
      "source": [
        "X = np.reshape(dataX, (len(dataX), seq_length, n_vocab))\n",
        "print(X.shape)"
      ],
      "execution_count": 9,
      "outputs": [
        {
          "output_type": "stream",
          "text": [
            "(98807, 100, 55)\n"
          ],
          "name": "stdout"
        }
      ]
    },
    {
      "metadata": {
        "id": "3BzYkU9JTk0E",
        "colab_type": "code",
        "colab": {
          "base_uri": "https://localhost:8080/",
          "height": 34
        },
        "outputId": "351d9b0e-94c6-496f-8e61-92ffda50c717"
      },
      "cell_type": "code",
      "source": [
        "y = np.reshape(dataY, (len(dataY), seq_length, n_vocab))\n",
        "print(y.shape)"
      ],
      "execution_count": 10,
      "outputs": [
        {
          "output_type": "stream",
          "text": [
            "(98807, 100, 55)\n"
          ],
          "name": "stdout"
        }
      ]
    },
    {
      "metadata": {
        "id": "OjiTElmhZU9t",
        "colab_type": "code",
        "colab": {
          "base_uri": "https://localhost:8080/",
          "height": 34
        },
        "outputId": "7d2fd346-f71a-4b38-d94f-48113f80b0d7"
      },
      "cell_type": "code",
      "source": [
        "X.shape[1], X.shape[2], y.shape[1]"
      ],
      "execution_count": 11,
      "outputs": [
        {
          "output_type": "execute_result",
          "data": {
            "text/plain": [
              "(100, 55, 100)"
            ]
          },
          "metadata": {
            "tags": []
          },
          "execution_count": 11
        }
      ]
    },
    {
      "metadata": {
        "id": "qdJx7TCHUniR",
        "colab_type": "code",
        "colab": {
          "base_uri": "https://localhost:8080/",
          "height": 306
        },
        "outputId": "1c3e0815-d148-48ea-d430-4026a455d8a5"
      },
      "cell_type": "code",
      "source": [
        "K.clear_session()\n",
        "\n",
        "model = Sequential()\n",
        "model.add(LSTM(256, input_shape=(X.shape[1], X.shape[2]), return_sequences=True))\n",
        "model.add(Dropout(0.2))\n",
        "model.add(LSTM(256, return_sequences=True))\n",
        "model.add(Dropout(0.2))\n",
        "model.add(Dense(n_vocab, activation='softmax'))\n",
        "model.compile(loss='categorical_crossentropy', optimizer='adam')\n",
        "model.summary()"
      ],
      "execution_count": 47,
      "outputs": [
        {
          "output_type": "stream",
          "text": [
            "_________________________________________________________________\n",
            "Layer (type)                 Output Shape              Param #   \n",
            "=================================================================\n",
            "lstm_1 (LSTM)                (None, 100, 256)          319488    \n",
            "_________________________________________________________________\n",
            "dropout_1 (Dropout)          (None, 100, 256)          0         \n",
            "_________________________________________________________________\n",
            "lstm_2 (LSTM)                (None, 100, 256)          525312    \n",
            "_________________________________________________________________\n",
            "dropout_2 (Dropout)          (None, 100, 256)          0         \n",
            "_________________________________________________________________\n",
            "dense_1 (Dense)              (None, 100, 55)           14135     \n",
            "=================================================================\n",
            "Total params: 858,935\n",
            "Trainable params: 858,935\n",
            "Non-trainable params: 0\n",
            "_________________________________________________________________\n"
          ],
          "name": "stdout"
        }
      ]
    },
    {
      "metadata": {
        "id": "i9G0Bo1CZOYy",
        "colab_type": "code",
        "colab": {}
      },
      "cell_type": "code",
      "source": [
        "filepath=\"/content/drive/My Drive/nondualbot/best_current_weights_1.hdf5\"\n",
        "checkpoint = ModelCheckpoint(filepath, monitor='loss', verbose=1, save_best_only=True, mode='min')\n",
        "callbacks_list = [checkpoint]"
      ],
      "execution_count": 0,
      "outputs": []
    },
    {
      "metadata": {
        "id": "q7KEkkjrFOHa",
        "colab_type": "code",
        "colab": {}
      },
      "cell_type": "code",
      "source": [
        "num_data = [char_to_int[char] for char in data]"
      ],
      "execution_count": 0,
      "outputs": []
    },
    {
      "metadata": {
        "id": "ubC4zNNSEOiZ",
        "colab_type": "code",
        "colab": {}
      },
      "cell_type": "code",
      "source": [
        "batch_size = 128\n",
        "\n",
        "def train_generator():\n",
        "  while True:\n",
        "    x_train = []\n",
        "    y_train = []\n",
        "    for i in range(batch_size):\n",
        "      cur_pos = np.random.randint(low=0, high=n_chars-seq_length-1)\n",
        "      x_train.append(np_utils.to_categorical(num_data[cur_pos:cur_pos + seq_length], num_classes=n_vocab))\n",
        "      y_train.append(np_utils.to_categorical(num_data[cur_pos + 1:cur_pos + seq_length + 1], num_classes=n_vocab))\n",
        "    \n",
        "    yield np.reshape(x_train, (batch_size, seq_length, n_vocab)), np.reshape(y_train, (batch_size, seq_length, n_vocab))\n"
      ],
      "execution_count": 0,
      "outputs": []
    },
    {
      "metadata": {
        "id": "hjtK8ogbGItq",
        "colab_type": "code",
        "colab": {
          "base_uri": "https://localhost:8080/",
          "height": 3434
        },
        "outputId": "55a0072f-0989-4a22-d3dc-59780e753e80"
      },
      "cell_type": "code",
      "source": [
        "model.fit_generator(train_generator(), steps_per_epoch=1000, epochs=50, verbose=1, callbacks=callbacks_list)\n"
      ],
      "execution_count": 33,
      "outputs": [
        {
          "output_type": "stream",
          "text": [
            "Epoch 1/50\n",
            "1000/1000 [==============================] - 417s 417ms/step - loss: 1.1857\n",
            "\n",
            "Epoch 00001: loss improved from 1.21428 to 1.18567, saving model to /content/drive/My Drive/nondualbot/best_current_weights_1.hdf5\n",
            "Epoch 2/50\n",
            "1000/1000 [==============================] - 414s 414ms/step - loss: 1.1489\n",
            "\n",
            "Epoch 00002: loss improved from 1.18567 to 1.14887, saving model to /content/drive/My Drive/nondualbot/best_current_weights_1.hdf5\n",
            "Epoch 3/50\n",
            "1000/1000 [==============================] - 411s 411ms/step - loss: 1.1176\n",
            "\n",
            "Epoch 00003: loss improved from 1.14887 to 1.11762, saving model to /content/drive/My Drive/nondualbot/best_current_weights_1.hdf5\n",
            "Epoch 4/50\n",
            "1000/1000 [==============================] - 410s 410ms/step - loss: 1.0830\n",
            "\n",
            "Epoch 00004: loss improved from 1.11762 to 1.08302, saving model to /content/drive/My Drive/nondualbot/best_current_weights_1.hdf5\n",
            "Epoch 5/50\n",
            "1000/1000 [==============================] - 416s 416ms/step - loss: 1.0520\n",
            "\n",
            "Epoch 00005: loss improved from 1.08302 to 1.05203, saving model to /content/drive/My Drive/nondualbot/best_current_weights_1.hdf5\n",
            "Epoch 6/50\n",
            "1000/1000 [==============================] - 416s 416ms/step - loss: 1.0223\n",
            "\n",
            "Epoch 00006: loss improved from 1.05203 to 1.02232, saving model to /content/drive/My Drive/nondualbot/best_current_weights_1.hdf5\n",
            "Epoch 7/50\n",
            "1000/1000 [==============================] - 414s 414ms/step - loss: 0.9976\n",
            "\n",
            "Epoch 00007: loss improved from 1.02232 to 0.99757, saving model to /content/drive/My Drive/nondualbot/best_current_weights_1.hdf5\n",
            "Epoch 8/50\n",
            "1000/1000 [==============================] - 415s 415ms/step - loss: 0.9762\n",
            "\n",
            "Epoch 00008: loss improved from 0.99757 to 0.97622, saving model to /content/drive/My Drive/nondualbot/best_current_weights_1.hdf5\n",
            "Epoch 9/50\n",
            "1000/1000 [==============================] - 415s 415ms/step - loss: 0.9591\n",
            "\n",
            "Epoch 00009: loss improved from 0.97622 to 0.95913, saving model to /content/drive/My Drive/nondualbot/best_current_weights_1.hdf5\n",
            "Epoch 10/50\n",
            "1000/1000 [==============================] - 414s 414ms/step - loss: 0.9445\n",
            "\n",
            "Epoch 00010: loss improved from 0.95913 to 0.94449, saving model to /content/drive/My Drive/nondualbot/best_current_weights_1.hdf5\n",
            "Epoch 11/50\n",
            "1000/1000 [==============================] - 417s 417ms/step - loss: 0.9322\n",
            "\n",
            "Epoch 00011: loss improved from 0.94449 to 0.93217, saving model to /content/drive/My Drive/nondualbot/best_current_weights_1.hdf5\n",
            "Epoch 12/50\n",
            "1000/1000 [==============================] - 415s 415ms/step - loss: 0.9215\n",
            "\n",
            "Epoch 00012: loss improved from 0.93217 to 0.92151, saving model to /content/drive/My Drive/nondualbot/best_current_weights_1.hdf5\n",
            "Epoch 13/50\n",
            "1000/1000 [==============================] - 414s 414ms/step - loss: 0.9130\n",
            "\n",
            "Epoch 00013: loss improved from 0.92151 to 0.91304, saving model to /content/drive/My Drive/nondualbot/best_current_weights_1.hdf5\n",
            "Epoch 14/50\n",
            "1000/1000 [==============================] - 413s 413ms/step - loss: 0.9051\n",
            "\n",
            "Epoch 00014: loss improved from 0.91304 to 0.90506, saving model to /content/drive/My Drive/nondualbot/best_current_weights_1.hdf5\n",
            "Epoch 15/50\n",
            "1000/1000 [==============================] - 414s 414ms/step - loss: 0.8977\n",
            "\n",
            "Epoch 00015: loss improved from 0.90506 to 0.89774, saving model to /content/drive/My Drive/nondualbot/best_current_weights_1.hdf5\n",
            "Epoch 16/50\n",
            "1000/1000 [==============================] - 413s 413ms/step - loss: 0.8914\n",
            "\n",
            "Epoch 00016: loss improved from 0.89774 to 0.89144, saving model to /content/drive/My Drive/nondualbot/best_current_weights_1.hdf5\n",
            "Epoch 17/50\n",
            "1000/1000 [==============================] - 417s 417ms/step - loss: 0.8859\n",
            "\n",
            "Epoch 00017: loss improved from 0.89144 to 0.88591, saving model to /content/drive/My Drive/nondualbot/best_current_weights_1.hdf5\n",
            "Epoch 18/50\n",
            "1000/1000 [==============================] - 415s 415ms/step - loss: 0.8814\n",
            "\n",
            "Epoch 00018: loss improved from 0.88591 to 0.88138, saving model to /content/drive/My Drive/nondualbot/best_current_weights_1.hdf5\n",
            "Epoch 19/50\n",
            "1000/1000 [==============================] - 415s 415ms/step - loss: 0.8769\n",
            "\n",
            "Epoch 00019: loss improved from 0.88138 to 0.87691, saving model to /content/drive/My Drive/nondualbot/best_current_weights_1.hdf5\n",
            "Epoch 20/50\n",
            "1000/1000 [==============================] - 413s 413ms/step - loss: 0.8723\n",
            "\n",
            "Epoch 00020: loss improved from 0.87691 to 0.87226, saving model to /content/drive/My Drive/nondualbot/best_current_weights_1.hdf5\n",
            "Epoch 21/50\n",
            "1000/1000 [==============================] - 414s 414ms/step - loss: 0.8685\n",
            "\n",
            "Epoch 00021: loss improved from 0.87226 to 0.86849, saving model to /content/drive/My Drive/nondualbot/best_current_weights_1.hdf5\n",
            "Epoch 22/50\n",
            "1000/1000 [==============================] - 416s 416ms/step - loss: 0.8646\n",
            "\n",
            "Epoch 00022: loss improved from 0.86849 to 0.86464, saving model to /content/drive/My Drive/nondualbot/best_current_weights_1.hdf5\n",
            "Epoch 23/50\n",
            "1000/1000 [==============================] - 416s 416ms/step - loss: 0.8621\n",
            "\n",
            "Epoch 00023: loss improved from 0.86464 to 0.86210, saving model to /content/drive/My Drive/nondualbot/best_current_weights_1.hdf5\n",
            "Epoch 24/50\n",
            "1000/1000 [==============================] - 416s 416ms/step - loss: 0.8591\n",
            "\n",
            "Epoch 00024: loss improved from 0.86210 to 0.85906, saving model to /content/drive/My Drive/nondualbot/best_current_weights_1.hdf5\n",
            "Epoch 25/50\n",
            "1000/1000 [==============================] - 415s 415ms/step - loss: 0.8554\n",
            "\n",
            "Epoch 00025: loss improved from 0.85906 to 0.85543, saving model to /content/drive/My Drive/nondualbot/best_current_weights_1.hdf5\n",
            "Epoch 26/50\n",
            "1000/1000 [==============================] - 416s 416ms/step - loss: 0.8530\n",
            "\n",
            "Epoch 00026: loss improved from 0.85543 to 0.85301, saving model to /content/drive/My Drive/nondualbot/best_current_weights_1.hdf5\n",
            "Epoch 27/50\n",
            "1000/1000 [==============================] - 415s 415ms/step - loss: 0.8500\n",
            "\n",
            "Epoch 00027: loss improved from 0.85301 to 0.84999, saving model to /content/drive/My Drive/nondualbot/best_current_weights_1.hdf5\n",
            "Epoch 28/50\n",
            "1000/1000 [==============================] - 417s 417ms/step - loss: 0.8477\n",
            "\n",
            "Epoch 00028: loss improved from 0.84999 to 0.84775, saving model to /content/drive/My Drive/nondualbot/best_current_weights_1.hdf5\n",
            "Epoch 29/50\n",
            "1000/1000 [==============================] - 418s 418ms/step - loss: 0.8458\n",
            "\n",
            "Epoch 00029: loss improved from 0.84775 to 0.84579, saving model to /content/drive/My Drive/nondualbot/best_current_weights_1.hdf5\n",
            "Epoch 30/50\n",
            "1000/1000 [==============================] - 418s 418ms/step - loss: 0.8437\n",
            "\n",
            "Epoch 00030: loss improved from 0.84579 to 0.84373, saving model to /content/drive/My Drive/nondualbot/best_current_weights_1.hdf5\n",
            "Epoch 31/50\n",
            "1000/1000 [==============================] - 416s 416ms/step - loss: 0.8418\n",
            "\n",
            "Epoch 00031: loss improved from 0.84373 to 0.84176, saving model to /content/drive/My Drive/nondualbot/best_current_weights_1.hdf5\n",
            "Epoch 32/50\n",
            "1000/1000 [==============================] - 416s 416ms/step - loss: 0.8398\n",
            "\n",
            "Epoch 00032: loss improved from 0.84176 to 0.83984, saving model to /content/drive/My Drive/nondualbot/best_current_weights_1.hdf5\n",
            "Epoch 33/50\n",
            "1000/1000 [==============================] - 418s 418ms/step - loss: 0.8372\n",
            "\n",
            "Epoch 00033: loss improved from 0.83984 to 0.83721, saving model to /content/drive/My Drive/nondualbot/best_current_weights_1.hdf5\n",
            "Epoch 34/50\n",
            "1000/1000 [==============================] - 418s 418ms/step - loss: 0.8359\n",
            "\n",
            "Epoch 00034: loss improved from 0.83721 to 0.83586, saving model to /content/drive/My Drive/nondualbot/best_current_weights_1.hdf5\n",
            "Epoch 35/50\n",
            "1000/1000 [==============================] - 417s 417ms/step - loss: 0.8338\n",
            "\n",
            "Epoch 00035: loss improved from 0.83586 to 0.83381, saving model to /content/drive/My Drive/nondualbot/best_current_weights_1.hdf5\n",
            "Epoch 36/50\n",
            "1000/1000 [==============================] - 418s 418ms/step - loss: 0.8327\n",
            "\n",
            "Epoch 00036: loss improved from 0.83381 to 0.83273, saving model to /content/drive/My Drive/nondualbot/best_current_weights_1.hdf5\n",
            "Epoch 37/50\n",
            "1000/1000 [==============================] - 417s 417ms/step - loss: 0.8310\n",
            "\n",
            "Epoch 00037: loss improved from 0.83273 to 0.83098, saving model to /content/drive/My Drive/nondualbot/best_current_weights_1.hdf5\n",
            "Epoch 38/50\n",
            "1000/1000 [==============================] - 417s 417ms/step - loss: 0.8288\n",
            "\n",
            "Epoch 00038: loss improved from 0.83098 to 0.82885, saving model to /content/drive/My Drive/nondualbot/best_current_weights_1.hdf5\n",
            "Epoch 39/50\n",
            "1000/1000 [==============================] - 417s 417ms/step - loss: 0.8272\n",
            "\n",
            "Epoch 00039: loss improved from 0.82885 to 0.82717, saving model to /content/drive/My Drive/nondualbot/best_current_weights_1.hdf5\n",
            "Epoch 40/50\n",
            "1000/1000 [==============================] - 415s 415ms/step - loss: 0.8258\n",
            "\n",
            "Epoch 00040: loss improved from 0.82717 to 0.82581, saving model to /content/drive/My Drive/nondualbot/best_current_weights_1.hdf5\n",
            "Epoch 41/50\n",
            "1000/1000 [==============================] - 415s 415ms/step - loss: 0.8254\n",
            "\n",
            "Epoch 00041: loss improved from 0.82581 to 0.82538, saving model to /content/drive/My Drive/nondualbot/best_current_weights_1.hdf5\n",
            "Epoch 42/50\n",
            "1000/1000 [==============================] - 427s 427ms/step - loss: 0.8241\n",
            "\n",
            "Epoch 00042: loss improved from 0.82538 to 0.82407, saving model to /content/drive/My Drive/nondualbot/best_current_weights_1.hdf5\n",
            "Epoch 43/50\n",
            "1000/1000 [==============================] - 422s 422ms/step - loss: 0.8225\n",
            "\n",
            "Epoch 00043: loss improved from 0.82407 to 0.82253, saving model to /content/drive/My Drive/nondualbot/best_current_weights_1.hdf5\n",
            "Epoch 44/50\n",
            "1000/1000 [==============================] - 421s 421ms/step - loss: 0.8215\n",
            "\n",
            "Epoch 00044: loss improved from 0.82253 to 0.82151, saving model to /content/drive/My Drive/nondualbot/best_current_weights_1.hdf5\n",
            "Epoch 45/50\n",
            "1000/1000 [==============================] - 421s 421ms/step - loss: 0.8204\n",
            "\n",
            "Epoch 00045: loss improved from 0.82151 to 0.82039, saving model to /content/drive/My Drive/nondualbot/best_current_weights_1.hdf5\n",
            "Epoch 46/50\n",
            "1000/1000 [==============================] - 420s 420ms/step - loss: 0.8189\n",
            "\n",
            "Epoch 00046: loss improved from 0.82039 to 0.81890, saving model to /content/drive/My Drive/nondualbot/best_current_weights_1.hdf5\n",
            "Epoch 47/50\n",
            "1000/1000 [==============================] - 421s 421ms/step - loss: 0.8181\n",
            "\n",
            "Epoch 00047: loss improved from 0.81890 to 0.81813, saving model to /content/drive/My Drive/nondualbot/best_current_weights_1.hdf5\n",
            "Epoch 48/50\n",
            "1000/1000 [==============================] - 419s 419ms/step - loss: 0.8174\n",
            "\n",
            "Epoch 00048: loss improved from 0.81813 to 0.81737, saving model to /content/drive/My Drive/nondualbot/best_current_weights_1.hdf5\n",
            "Epoch 49/50\n",
            "1000/1000 [==============================] - 415s 415ms/step - loss: 0.8160\n",
            "\n",
            "Epoch 00049: loss improved from 0.81737 to 0.81603, saving model to /content/drive/My Drive/nondualbot/best_current_weights_1.hdf5\n",
            "Epoch 50/50\n",
            "1000/1000 [==============================] - 415s 415ms/step - loss: 0.8157\n",
            "\n",
            "Epoch 00050: loss improved from 0.81603 to 0.81566, saving model to /content/drive/My Drive/nondualbot/best_current_weights_1.hdf5\n"
          ],
          "name": "stdout"
        },
        {
          "output_type": "execute_result",
          "data": {
            "text/plain": [
              "<keras.callbacks.History at 0x7fcdd06e1278>"
            ]
          },
          "metadata": {
            "tags": []
          },
          "execution_count": 33
        }
      ]
    },
    {
      "metadata": {
        "id": "CrIwYGwCGJ72",
        "colab_type": "code",
        "colab": {
          "base_uri": "https://localhost:8080/",
          "height": 34
        },
        "outputId": "05e1272a-cb1b-45f0-d1fa-e9579e348328"
      },
      "cell_type": "code",
      "source": [
        "np.random.randint(low=0, high=10)"
      ],
      "execution_count": 22,
      "outputs": [
        {
          "output_type": "execute_result",
          "data": {
            "text/plain": [
              "8"
            ]
          },
          "metadata": {
            "tags": []
          },
          "execution_count": 22
        }
      ]
    },
    {
      "metadata": {
        "id": "a76QE1vrZRkc",
        "colab_type": "code",
        "colab": {
          "base_uri": "https://localhost:8080/",
          "height": 1085
        },
        "outputId": "8711883a-1d0e-4d0c-efa1-3547aaac81b2"
      },
      "cell_type": "code",
      "source": [
        "model.fit(X, y, epochs=100, batch_size=128, callbacks=callbacks_list)"
      ],
      "execution_count": 17,
      "outputs": [
        {
          "output_type": "stream",
          "text": [
            "Epoch 1/100\n",
            "98807/98807 [==============================] - 321s 3ms/step - loss: 2.1147\n",
            "\n",
            "Epoch 00001: loss improved from inf to 2.11473, saving model to /content/drive/My Drive/nondualbot/best_current_weights_1.hdf5\n",
            "Epoch 2/100\n",
            "98807/98807 [==============================] - 316s 3ms/step - loss: 1.4609\n",
            "\n",
            "Epoch 00002: loss improved from 2.11473 to 1.46091, saving model to /content/drive/My Drive/nondualbot/best_current_weights_1.hdf5\n",
            "Epoch 3/100\n",
            "98807/98807 [==============================] - 317s 3ms/step - loss: 1.3013\n",
            "\n",
            "Epoch 00003: loss improved from 1.46091 to 1.30130, saving model to /content/drive/My Drive/nondualbot/best_current_weights_1.hdf5\n",
            "Epoch 4/100\n",
            "98807/98807 [==============================] - 315s 3ms/step - loss: 1.2143\n",
            "\n",
            "Epoch 00004: loss improved from 1.30130 to 1.21428, saving model to /content/drive/My Drive/nondualbot/best_current_weights_1.hdf5\n",
            "Epoch 5/100\n",
            " 3584/98807 [>.............................] - ETA: 5:06 - loss: 1.1823"
          ],
          "name": "stdout"
        },
        {
          "output_type": "error",
          "ename": "KeyboardInterrupt",
          "evalue": "ignored",
          "traceback": [
            "\u001b[0;31m---------------------------------------------------------------------------\u001b[0m",
            "\u001b[0;31mKeyboardInterrupt\u001b[0m                         Traceback (most recent call last)",
            "\u001b[0;32m<ipython-input-17-35a03041d7ec>\u001b[0m in \u001b[0;36m<module>\u001b[0;34m()\u001b[0m\n\u001b[0;32m----> 1\u001b[0;31m \u001b[0mmodel\u001b[0m\u001b[0;34m.\u001b[0m\u001b[0mfit\u001b[0m\u001b[0;34m(\u001b[0m\u001b[0mX\u001b[0m\u001b[0;34m,\u001b[0m \u001b[0my\u001b[0m\u001b[0;34m,\u001b[0m \u001b[0mepochs\u001b[0m\u001b[0;34m=\u001b[0m\u001b[0;36m100\u001b[0m\u001b[0;34m,\u001b[0m \u001b[0mbatch_size\u001b[0m\u001b[0;34m=\u001b[0m\u001b[0;36m128\u001b[0m\u001b[0;34m,\u001b[0m \u001b[0mcallbacks\u001b[0m\u001b[0;34m=\u001b[0m\u001b[0mcallbacks_list\u001b[0m\u001b[0;34m)\u001b[0m\u001b[0;34m\u001b[0m\u001b[0;34m\u001b[0m\u001b[0m\n\u001b[0m",
            "\u001b[0;32m/usr/local/lib/python3.6/dist-packages/keras/engine/training.py\u001b[0m in \u001b[0;36mfit\u001b[0;34m(self, x, y, batch_size, epochs, verbose, callbacks, validation_split, validation_data, shuffle, class_weight, sample_weight, initial_epoch, steps_per_epoch, validation_steps, **kwargs)\u001b[0m\n\u001b[1;32m   1037\u001b[0m                                         \u001b[0minitial_epoch\u001b[0m\u001b[0;34m=\u001b[0m\u001b[0minitial_epoch\u001b[0m\u001b[0;34m,\u001b[0m\u001b[0;34m\u001b[0m\u001b[0;34m\u001b[0m\u001b[0m\n\u001b[1;32m   1038\u001b[0m                                         \u001b[0msteps_per_epoch\u001b[0m\u001b[0;34m=\u001b[0m\u001b[0msteps_per_epoch\u001b[0m\u001b[0;34m,\u001b[0m\u001b[0;34m\u001b[0m\u001b[0;34m\u001b[0m\u001b[0m\n\u001b[0;32m-> 1039\u001b[0;31m                                         validation_steps=validation_steps)\n\u001b[0m\u001b[1;32m   1040\u001b[0m \u001b[0;34m\u001b[0m\u001b[0m\n\u001b[1;32m   1041\u001b[0m     def evaluate(self, x=None, y=None,\n",
            "\u001b[0;32m/usr/local/lib/python3.6/dist-packages/keras/engine/training_arrays.py\u001b[0m in \u001b[0;36mfit_loop\u001b[0;34m(model, f, ins, out_labels, batch_size, epochs, verbose, callbacks, val_f, val_ins, shuffle, callback_metrics, initial_epoch, steps_per_epoch, validation_steps)\u001b[0m\n\u001b[1;32m    197\u001b[0m                     \u001b[0mins_batch\u001b[0m\u001b[0;34m[\u001b[0m\u001b[0mi\u001b[0m\u001b[0;34m]\u001b[0m \u001b[0;34m=\u001b[0m \u001b[0mins_batch\u001b[0m\u001b[0;34m[\u001b[0m\u001b[0mi\u001b[0m\u001b[0;34m]\u001b[0m\u001b[0;34m.\u001b[0m\u001b[0mtoarray\u001b[0m\u001b[0;34m(\u001b[0m\u001b[0;34m)\u001b[0m\u001b[0;34m\u001b[0m\u001b[0;34m\u001b[0m\u001b[0m\n\u001b[1;32m    198\u001b[0m \u001b[0;34m\u001b[0m\u001b[0m\n\u001b[0;32m--> 199\u001b[0;31m                 \u001b[0mouts\u001b[0m \u001b[0;34m=\u001b[0m \u001b[0mf\u001b[0m\u001b[0;34m(\u001b[0m\u001b[0mins_batch\u001b[0m\u001b[0;34m)\u001b[0m\u001b[0;34m\u001b[0m\u001b[0;34m\u001b[0m\u001b[0m\n\u001b[0m\u001b[1;32m    200\u001b[0m                 \u001b[0mouts\u001b[0m \u001b[0;34m=\u001b[0m \u001b[0mto_list\u001b[0m\u001b[0;34m(\u001b[0m\u001b[0mouts\u001b[0m\u001b[0;34m)\u001b[0m\u001b[0;34m\u001b[0m\u001b[0;34m\u001b[0m\u001b[0m\n\u001b[1;32m    201\u001b[0m                 \u001b[0;32mfor\u001b[0m \u001b[0ml\u001b[0m\u001b[0;34m,\u001b[0m \u001b[0mo\u001b[0m \u001b[0;32min\u001b[0m \u001b[0mzip\u001b[0m\u001b[0;34m(\u001b[0m\u001b[0mout_labels\u001b[0m\u001b[0;34m,\u001b[0m \u001b[0mouts\u001b[0m\u001b[0;34m)\u001b[0m\u001b[0;34m:\u001b[0m\u001b[0;34m\u001b[0m\u001b[0;34m\u001b[0m\u001b[0m\n",
            "\u001b[0;32m/usr/local/lib/python3.6/dist-packages/keras/backend/tensorflow_backend.py\u001b[0m in \u001b[0;36m__call__\u001b[0;34m(self, inputs)\u001b[0m\n\u001b[1;32m   2713\u001b[0m                 \u001b[0;32mreturn\u001b[0m \u001b[0mself\u001b[0m\u001b[0;34m.\u001b[0m\u001b[0m_legacy_call\u001b[0m\u001b[0;34m(\u001b[0m\u001b[0minputs\u001b[0m\u001b[0;34m)\u001b[0m\u001b[0;34m\u001b[0m\u001b[0;34m\u001b[0m\u001b[0m\n\u001b[1;32m   2714\u001b[0m \u001b[0;34m\u001b[0m\u001b[0m\n\u001b[0;32m-> 2715\u001b[0;31m             \u001b[0;32mreturn\u001b[0m \u001b[0mself\u001b[0m\u001b[0;34m.\u001b[0m\u001b[0m_call\u001b[0m\u001b[0;34m(\u001b[0m\u001b[0minputs\u001b[0m\u001b[0;34m)\u001b[0m\u001b[0;34m\u001b[0m\u001b[0;34m\u001b[0m\u001b[0m\n\u001b[0m\u001b[1;32m   2716\u001b[0m         \u001b[0;32melse\u001b[0m\u001b[0;34m:\u001b[0m\u001b[0;34m\u001b[0m\u001b[0;34m\u001b[0m\u001b[0m\n\u001b[1;32m   2717\u001b[0m             \u001b[0;32mif\u001b[0m \u001b[0mpy_any\u001b[0m\u001b[0;34m(\u001b[0m\u001b[0mis_tensor\u001b[0m\u001b[0;34m(\u001b[0m\u001b[0mx\u001b[0m\u001b[0;34m)\u001b[0m \u001b[0;32mfor\u001b[0m \u001b[0mx\u001b[0m \u001b[0;32min\u001b[0m \u001b[0minputs\u001b[0m\u001b[0;34m)\u001b[0m\u001b[0;34m:\u001b[0m\u001b[0;34m\u001b[0m\u001b[0;34m\u001b[0m\u001b[0m\n",
            "\u001b[0;32m/usr/local/lib/python3.6/dist-packages/keras/backend/tensorflow_backend.py\u001b[0m in \u001b[0;36m_call\u001b[0;34m(self, inputs)\u001b[0m\n\u001b[1;32m   2673\u001b[0m             \u001b[0mfetched\u001b[0m \u001b[0;34m=\u001b[0m \u001b[0mself\u001b[0m\u001b[0;34m.\u001b[0m\u001b[0m_callable_fn\u001b[0m\u001b[0;34m(\u001b[0m\u001b[0;34m*\u001b[0m\u001b[0marray_vals\u001b[0m\u001b[0;34m,\u001b[0m \u001b[0mrun_metadata\u001b[0m\u001b[0;34m=\u001b[0m\u001b[0mself\u001b[0m\u001b[0;34m.\u001b[0m\u001b[0mrun_metadata\u001b[0m\u001b[0;34m)\u001b[0m\u001b[0;34m\u001b[0m\u001b[0;34m\u001b[0m\u001b[0m\n\u001b[1;32m   2674\u001b[0m         \u001b[0;32melse\u001b[0m\u001b[0;34m:\u001b[0m\u001b[0;34m\u001b[0m\u001b[0;34m\u001b[0m\u001b[0m\n\u001b[0;32m-> 2675\u001b[0;31m             \u001b[0mfetched\u001b[0m \u001b[0;34m=\u001b[0m \u001b[0mself\u001b[0m\u001b[0;34m.\u001b[0m\u001b[0m_callable_fn\u001b[0m\u001b[0;34m(\u001b[0m\u001b[0;34m*\u001b[0m\u001b[0marray_vals\u001b[0m\u001b[0;34m)\u001b[0m\u001b[0;34m\u001b[0m\u001b[0;34m\u001b[0m\u001b[0m\n\u001b[0m\u001b[1;32m   2676\u001b[0m         \u001b[0;32mreturn\u001b[0m \u001b[0mfetched\u001b[0m\u001b[0;34m[\u001b[0m\u001b[0;34m:\u001b[0m\u001b[0mlen\u001b[0m\u001b[0;34m(\u001b[0m\u001b[0mself\u001b[0m\u001b[0;34m.\u001b[0m\u001b[0moutputs\u001b[0m\u001b[0;34m)\u001b[0m\u001b[0;34m]\u001b[0m\u001b[0;34m\u001b[0m\u001b[0;34m\u001b[0m\u001b[0m\n\u001b[1;32m   2677\u001b[0m \u001b[0;34m\u001b[0m\u001b[0m\n",
            "\u001b[0;32m/usr/local/lib/python3.6/dist-packages/tensorflow/python/client/session.py\u001b[0m in \u001b[0;36m__call__\u001b[0;34m(self, *args, **kwargs)\u001b[0m\n\u001b[1;32m   1437\u001b[0m           ret = tf_session.TF_SessionRunCallable(\n\u001b[1;32m   1438\u001b[0m               \u001b[0mself\u001b[0m\u001b[0;34m.\u001b[0m\u001b[0m_session\u001b[0m\u001b[0;34m.\u001b[0m\u001b[0m_session\u001b[0m\u001b[0;34m,\u001b[0m \u001b[0mself\u001b[0m\u001b[0;34m.\u001b[0m\u001b[0m_handle\u001b[0m\u001b[0;34m,\u001b[0m \u001b[0margs\u001b[0m\u001b[0;34m,\u001b[0m \u001b[0mstatus\u001b[0m\u001b[0;34m,\u001b[0m\u001b[0;34m\u001b[0m\u001b[0;34m\u001b[0m\u001b[0m\n\u001b[0;32m-> 1439\u001b[0;31m               run_metadata_ptr)\n\u001b[0m\u001b[1;32m   1440\u001b[0m         \u001b[0;32mif\u001b[0m \u001b[0mrun_metadata\u001b[0m\u001b[0;34m:\u001b[0m\u001b[0;34m\u001b[0m\u001b[0;34m\u001b[0m\u001b[0m\n\u001b[1;32m   1441\u001b[0m           \u001b[0mproto_data\u001b[0m \u001b[0;34m=\u001b[0m \u001b[0mtf_session\u001b[0m\u001b[0;34m.\u001b[0m\u001b[0mTF_GetBuffer\u001b[0m\u001b[0;34m(\u001b[0m\u001b[0mrun_metadata_ptr\u001b[0m\u001b[0;34m)\u001b[0m\u001b[0;34m\u001b[0m\u001b[0;34m\u001b[0m\u001b[0m\n",
            "\u001b[0;31mKeyboardInterrupt\u001b[0m: "
          ]
        }
      ]
    },
    {
      "metadata": {
        "id": "8mj5q7TvGk6e",
        "colab_type": "code",
        "colab": {}
      },
      "cell_type": "code",
      "source": [
        "# load the network weights\n",
        "filename = \"/content/drive/My Drive/nondualbot/best_current_weights_1.hdf5\"\n",
        "model.load_weights(filename)\n",
        "model.compile(loss='categorical_crossentropy', optimizer='adam')"
      ],
      "execution_count": 0,
      "outputs": []
    },
    {
      "metadata": {
        "id": "6ZD7FuFmZXHI",
        "colab_type": "code",
        "colab": {
          "base_uri": "https://localhost:8080/",
          "height": 71
        },
        "outputId": "87dd0401-6850-4bcd-e68c-e2735a14ca75"
      },
      "cell_type": "code",
      "source": [
        "\n",
        "# pick a random seed\n",
        "#start = np.random.randint(0, len(dataX)-1)\n",
        "#pattern = dataX[start]\n",
        "#print(''.join([int_to_char[value] for value in pattern_flat]))\n",
        "question = 'Fuck off stupid bot.'\n",
        "pattern = np_utils.to_categorical([char_to_int[char] for char in question], num_classes=n_vocab)\n",
        "pattern = np.append(np.zeros(shape=(max(seq_length-pattern.shape[0],0), n_vocab)), pattern, axis=0)\n",
        "\n",
        "print(question)\n",
        "\n",
        "# generate characters\n",
        "for i in range(150):\n",
        "\n",
        "  prediction = model.predict(np.reshape(pattern, (1, pattern.shape[0], pattern.shape[1])), verbose=0)[0][-1]\n",
        "  \n",
        "  index = np.random.choice(len(prediction), p=(prediction**2)/sum(prediction**2))#np.argmax(prediction)#\n",
        "  result = int_to_char[index]\n",
        "  sys.stdout.write(result)\n",
        "  pattern = np.append(pattern, [np_utils.to_categorical(index,num_classes=n_vocab)], axis=0)\n",
        "  pattern = pattern[1:len(pattern)]\n",
        "  #print(\"\\nDone.\")"
      ],
      "execution_count": 40,
      "outputs": [
        {
          "output_type": "stream",
          "text": [
            "Fuck off stupid bot.\n",
            " As a matter of fact, it is not so important. I am a person and therefore it is not experienceable, that you are not a person. This is the universal l"
          ],
          "name": "stdout"
        }
      ]
    },
    {
      "metadata": {
        "id": "oVhh9O8OPJ_b",
        "colab_type": "code",
        "colab": {
          "base_uri": "https://localhost:8080/",
          "height": 255
        },
        "outputId": "f27f9b11-6a35-4e64-d9e4-4866f22c1b4e"
      },
      "cell_type": "code",
      "source": [
        "model.predict(np.reshape(pattern, (1, pattern.shape[0], pattern.shape[1])), verbose=0)[0][-1]"
      ],
      "execution_count": 24,
      "outputs": [
        {
          "output_type": "execute_result",
          "data": {
            "text/plain": [
              "array([9.9999940e-01, 5.4691748e-07, 4.8891195e-12, 1.0469446e-09,\n",
              "       2.6797808e-10, 6.7335869e-22, 2.8095636e-26, 6.3552258e-29,\n",
              "       7.0487436e-23, 6.3646487e-26, 3.1674805e-26, 4.9144446e-28,\n",
              "       1.0800542e-21, 1.1273043e-25, 3.6994567e-28, 6.7637692e-34,\n",
              "       3.3639891e-28, 2.0014950e-27, 2.9739306e-31, 5.9701945e-25,\n",
              "       2.0236516e-27, 0.0000000e+00, 1.8087869e-34, 1.6505187e-24,\n",
              "       1.3041807e-22, 2.8014332e-31, 8.8703745e-35, 1.8485967e-19,\n",
              "       6.2777927e-26, 6.5178172e-19, 1.2295411e-16, 1.3757429e-19,\n",
              "       6.6819938e-13, 3.0502608e-13, 2.4411573e-12, 2.3483241e-15,\n",
              "       1.7099024e-17, 1.6124142e-16, 2.0943558e-22, 2.6491773e-17,\n",
              "       1.4324105e-12, 8.1101988e-14, 7.6933120e-11, 5.4370323e-14,\n",
              "       4.9228969e-17, 4.9811773e-23, 2.1248222e-15, 8.4897835e-12,\n",
              "       2.5380966e-16, 1.9712886e-15, 8.8841031e-17, 3.3209028e-15,\n",
              "       2.6880777e-22, 6.2216196e-20, 2.2106736e-28], dtype=float32)"
            ]
          },
          "metadata": {
            "tags": []
          },
          "execution_count": 24
        }
      ]
    },
    {
      "metadata": {
        "id": "lChG5UQGlewY",
        "colab_type": "code",
        "colab": {
          "base_uri": "https://localhost:8080/",
          "height": 136
        },
        "outputId": "70e55f41-d38d-42c9-faa8-c3b052ac648c"
      },
      "cell_type": "code",
      "source": [
        "np.append(pattern, [np_utils.to_categorical(index,num_classes=n_vocab)], axis=0)"
      ],
      "execution_count": 58,
      "outputs": [
        {
          "output_type": "execute_result",
          "data": {
            "text/plain": [
              "array([[0., 0., 0., ..., 0., 0., 0.],\n",
              "       [0., 1., 0., ..., 0., 0., 0.],\n",
              "       [1., 0., 0., ..., 0., 0., 0.],\n",
              "       ...,\n",
              "       [0., 0., 0., ..., 0., 0., 0.],\n",
              "       [0., 0., 0., ..., 0., 0., 0.],\n",
              "       [1., 0., 0., ..., 0., 0., 0.]], dtype=float32)"
            ]
          },
          "metadata": {
            "tags": []
          },
          "execution_count": 58
        }
      ]
    },
    {
      "metadata": {
        "id": "4ghdt5Z3mhhQ",
        "colab_type": "code",
        "colab": {
          "base_uri": "https://localhost:8080/",
          "height": 85
        },
        "outputId": "3904acd3-afc1-4e70-d68d-0818c7792194"
      },
      "cell_type": "code",
      "source": [
        "patte"
      ],
      "execution_count": 57,
      "outputs": [
        {
          "output_type": "execute_result",
          "data": {
            "text/plain": [
              "array([1., 0., 0., 0., 0., 0., 0., 0., 0., 0., 0., 0., 0., 0., 0., 0., 0.,\n",
              "       0., 0., 0., 0., 0., 0., 0., 0., 0., 0., 0., 0., 0., 0., 0., 0., 0.,\n",
              "       0., 0., 0., 0., 0., 0., 0., 0., 0., 0., 0., 0., 0., 0., 0., 0., 0.,\n",
              "       0., 0., 0., 0.], dtype=float32)"
            ]
          },
          "metadata": {
            "tags": []
          },
          "execution_count": 57
        }
      ]
    },
    {
      "metadata": {
        "id": "DfwWaffxnHuG",
        "colab_type": "code",
        "colab": {
          "base_uri": "https://localhost:8080/",
          "height": 34
        },
        "outputId": "b7eb2936-9a7f-4a50-cd88-e44d5008a656"
      },
      "cell_type": "code",
      "source": [
        "np.argmax(dataY[0])"
      ],
      "execution_count": 23,
      "outputs": [
        {
          "output_type": "execute_result",
          "data": {
            "text/plain": [
              "40"
            ]
          },
          "metadata": {
            "tags": []
          },
          "execution_count": 23
        }
      ]
    },
    {
      "metadata": {
        "id": "40kQZZqnA_T8",
        "colab_type": "code",
        "colab": {
          "base_uri": "https://localhost:8080/",
          "height": 85
        },
        "outputId": "11c81b77-8bf1-4ef8-def8-3c2c59fd51ab"
      },
      "cell_type": "code",
      "source": [
        "dataY[0]"
      ],
      "execution_count": 24,
      "outputs": [
        {
          "output_type": "execute_result",
          "data": {
            "text/plain": [
              "array([0., 0., 0., 0., 0., 0., 0., 0., 0., 0., 0., 0., 0., 0., 0., 0., 0.,\n",
              "       0., 0., 0., 0., 0., 0., 0., 0., 0., 0., 0., 0., 0., 0., 0., 0., 0.,\n",
              "       0., 0., 0., 0., 0., 0., 1., 0., 0., 0., 0., 0., 0., 0., 0., 0., 0.,\n",
              "       0., 0., 0., 0.], dtype=float32)"
            ]
          },
          "metadata": {
            "tags": []
          },
          "execution_count": 24
        }
      ]
    },
    {
      "metadata": {
        "id": "nKovml72BAbC",
        "colab_type": "code",
        "colab": {}
      },
      "cell_type": "code",
      "source": [
        ""
      ],
      "execution_count": 0,
      "outputs": []
    }
  ]
}